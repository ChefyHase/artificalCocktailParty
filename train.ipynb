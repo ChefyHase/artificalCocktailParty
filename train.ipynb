{
  "nbformat": 4,
  "nbformat_minor": 0,
  "metadata": {
    "colab": {
      "name": "Google Colaboratory + TensorflowJS example のコピー",
      "version": "0.3.2",
      "provenance": []
    },
    "kernelspec": {
      "name": "javascript",
      "display_name": "javascript"
    },
    "accelerator": "GPU"
  },
  "cells": [
    {
      "cell_type": "code",
      "metadata": {
        "id": "Bemq0Jh_kaMC",
        "colab_type": "code",
        "colab": {
          "base_uri": "https://localhost:8080/",
          "height": 321
        },
        "outputId": "ec4f8af5-7e54-4335-d99a-e5d1e18130cd"
      },
      "source": [
        "!git clone https://github.com/ChefyHase/artificalCocktailParty.git\n",
        "%cd artificalCocktailParty\n",
        "\n",
        "from google.colab import drive\n",
        "drive.mount('/content/drive')\n",
        "\n",
        "!ls\n",
        "\n",
        "!npm install -g --unsafe-perm ijavascript zeromq\n",
        "!ijsinstall --install=global\n",
        "!jupyter-kernelspec list\n",
        "!npm install    "
      ],
      "execution_count": 5,
      "outputs": [
        {
          "output_type": "error",
          "ename": "SyntaxError",
          "evalue": "ignored",
          "traceback": [
            "evalmachine.<anonymous>:1",
            "!git clone https://github.com/ChefyHase/artificalCocktailParty.git",
            "     ^^^^^",
            "",
            "SyntaxError: Unexpected identifier",
            "    at createScript (vm.js:80:10)",
            "    at Object.runInThisContext (vm.js:139:10)",
            "    at run ([eval]:1054:15)",
            "    at onRunRequest ([eval]:888:18)",
            "    at onMessage ([eval]:848:13)",
            "    at emitTwo (events.js:126:13)",
            "    at process.emit (events.js:214:7)",
            "    at emit (internal/child_process.js:772:12)",
            "    at _combinedTickCallback (internal/process/next_tick.js:141:11)",
            "    at process._tickCallback (internal/process/next_tick.js:180:9)"
          ]
        }
      ]
    },
    {
      "cell_type": "code",
      "metadata": {
        "id": "PobMYfmQkwFx",
        "colab_type": "code",
        "colab": {
          "base_uri": "https://localhost:8080/",
          "height": 34
        },
        "outputId": "431700eb-baa0-4cc8-ce0f-75f2cfba818d"
      },
      "source": [
        "console.log('hello\"')"
      ],
      "execution_count": 3,
      "outputs": [
        {
          "output_type": "stream",
          "text": [
            "hello\"\n"
          ],
          "name": "stdout"
        }
      ]
    }
  ]
}